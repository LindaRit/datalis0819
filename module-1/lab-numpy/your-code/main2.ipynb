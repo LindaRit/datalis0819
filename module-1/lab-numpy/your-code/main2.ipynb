{
 "cells": [
  {
   "cell_type": "code",
   "execution_count": 1,
   "metadata": {},
   "outputs": [],
   "source": [
    "#1. Import the NUMPY package under the name np.\n",
    "import numpy as np\n"
   ]
  },
  {
   "cell_type": "code",
   "execution_count": 8,
   "metadata": {},
   "outputs": [
    {
     "name": "stdout",
     "output_type": "stream",
     "text": [
      "1.16.4\n"
     ]
    }
   ],
   "source": [
    "#2. Print the NUMPY version and the configuration.\n",
    "print(np.__version__)\n"
   ]
  },
  {
   "cell_type": "code",
   "execution_count": 4,
   "metadata": {},
   "outputs": [],
   "source": [
    "#3. Generate a 2x3x5 3-dimensional array with random values. Assign the array to variable \"a\"\n",
    "# Challenge: there are at least three easy ways that use numpy to generate random arrays. How many ways can you find?\n",
    "a = np.random.random((2,3,5))"
   ]
  },
  {
   "cell_type": "code",
   "execution_count": 5,
   "metadata": {},
   "outputs": [
    {
     "name": "stdout",
     "output_type": "stream",
     "text": [
      "[[[0.69032154 0.48605073 0.64753892 0.88950054 0.70915224]\n",
      "  [0.91226041 0.90813681 0.02660409 0.10195266 0.17503161]\n",
      "  [0.22714011 0.02287659 0.63526054 0.85953202 0.57132175]]\n",
      "\n",
      " [[0.33513924 0.93956535 0.48913648 0.798078   0.49152393]\n",
      "  [0.22592059 0.06561766 0.70718225 0.62622094 0.52182445]\n",
      "  [0.27912138 0.09612072 0.26827116 0.33266781 0.09488129]]]\n"
     ]
    }
   ],
   "source": [
    "#4. Print a.\n",
    "print(a)"
   ]
  },
  {
   "cell_type": "code",
   "execution_count": 6,
   "metadata": {},
   "outputs": [],
   "source": [
    "#5. Create a 5x2x3 3-dimensional array with all values equaling 1.\n",
    "#Assign the array to variable \"b\"\n",
    "b = np.ones((5,2,3))"
   ]
  },
  {
   "cell_type": "code",
   "execution_count": 7,
   "metadata": {},
   "outputs": [
    {
     "name": "stdout",
     "output_type": "stream",
     "text": [
      "[[[1. 1. 1.]\n",
      "  [1. 1. 1.]]\n",
      "\n",
      " [[1. 1. 1.]\n",
      "  [1. 1. 1.]]\n",
      "\n",
      " [[1. 1. 1.]\n",
      "  [1. 1. 1.]]\n",
      "\n",
      " [[1. 1. 1.]\n",
      "  [1. 1. 1.]]\n",
      "\n",
      " [[1. 1. 1.]\n",
      "  [1. 1. 1.]]]\n"
     ]
    }
   ],
   "source": [
    "#6. Print b.\n",
    "print(b)"
   ]
  },
  {
   "cell_type": "code",
   "execution_count": 8,
   "metadata": {},
   "outputs": [
    {
     "data": {
      "text/plain": [
       "True"
      ]
     },
     "execution_count": 8,
     "metadata": {},
     "output_type": "execute_result"
    }
   ],
   "source": [
    "#7. Do a and b have the same size? How do you prove that in Python code?\n",
    "a.size ==b.size"
   ]
  },
  {
   "cell_type": "code",
   "execution_count": 9,
   "metadata": {},
   "outputs": [
    {
     "ename": "ValueError",
     "evalue": "operands could not be broadcast together with shapes (2,3,5) (5,2,3) ",
     "output_type": "error",
     "traceback": [
      "\u001b[1;31m---------------------------------------------------------------------------\u001b[0m",
      "\u001b[1;31mValueError\u001b[0m                                Traceback (most recent call last)",
      "\u001b[1;32m<ipython-input-9-5df6cd0c3237>\u001b[0m in \u001b[0;36m<module>\u001b[1;34m\u001b[0m\n\u001b[0;32m      1\u001b[0m \u001b[1;31m#8. Are you able to add a and b? Why or why not?\u001b[0m\u001b[1;33m\u001b[0m\u001b[1;33m\u001b[0m\u001b[1;33m\u001b[0m\u001b[0m\n\u001b[1;32m----> 2\u001b[1;33m \u001b[0mnp\u001b[0m\u001b[1;33m.\u001b[0m\u001b[0madd\u001b[0m\u001b[1;33m(\u001b[0m\u001b[0ma\u001b[0m\u001b[1;33m+\u001b[0m\u001b[0mb\u001b[0m\u001b[1;33m)\u001b[0m\u001b[1;33m\u001b[0m\u001b[1;33m\u001b[0m\u001b[0m\n\u001b[0m\u001b[0;32m      3\u001b[0m \u001b[1;31m# not addible because different shapes\u001b[0m\u001b[1;33m\u001b[0m\u001b[1;33m\u001b[0m\u001b[1;33m\u001b[0m\u001b[0m\n",
      "\u001b[1;31mValueError\u001b[0m: operands could not be broadcast together with shapes (2,3,5) (5,2,3) "
     ]
    }
   ],
   "source": [
    "#8. Are you able to add a and b? Why or why not?\n",
    "np.add(a+b)\n",
    "# not addible because different shapes"
   ]
  },
  {
   "cell_type": "code",
   "execution_count": 10,
   "metadata": {},
   "outputs": [
    {
     "name": "stdout",
     "output_type": "stream",
     "text": [
      "[[5. 5. 5. 1. 1.]\n",
      " [5. 5. 5. 1. 1.]\n",
      " [1. 1. 1. 1. 1.]]\n",
      "[[10. 10. 10.  2.  2.]\n",
      " [10. 10. 10.  2.  2.]\n",
      " [ 2.  2.  2.  2.  2.]]\n"
     ]
    }
   ],
   "source": [
    "#9. Transpose b so that it has the same structure of a (i.e. become a 2x3x5 array). Assign the transposed array to varialbe \"c\".\n",
    "one_array=np.sum(b, axis=0)\n",
    "x=np.ones((1,3))\n",
    "y=np.ones((3,2))\n",
    "full_rows= np.vstack([one_array,x])\n",
    "full_shape=np.hstack([full_rows,y])\n",
    "print(full_shape)\n",
    "c=2* full_shape\n",
    "print(c)"
   ]
  },
  {
   "cell_type": "code",
   "execution_count": 11,
   "metadata": {},
   "outputs": [
    {
     "name": "stdout",
     "output_type": "stream",
     "text": [
      "[[[10.69032154 10.48605073 10.64753892  2.88950054  2.70915224]\n",
      "  [10.91226041 10.90813681 10.02660409  2.10195266  2.17503161]\n",
      "  [ 2.22714011  2.02287659  2.63526054  2.85953202  2.57132175]]\n",
      "\n",
      " [[10.33513924 10.93956535 10.48913648  2.798078    2.49152393]\n",
      "  [10.22592059 10.06561766 10.70718225  2.62622094  2.52182445]\n",
      "  [ 2.27912138  2.09612072  2.26827116  2.33266781  2.09488129]]]\n"
     ]
    }
   ],
   "source": [
    "#10. Try to add a and c. Now it should work. Assign the sum to varialbe \"d\". But why does it work now?\n",
    "d = np.add(a,c)\n",
    "print(d)\n",
    "# the shape is the right one now (2,3,5)"
   ]
  },
  {
   "cell_type": "code",
   "execution_count": 12,
   "metadata": {},
   "outputs": [
    {
     "name": "stdout",
     "output_type": "stream",
     "text": [
      "[[[0.69032154 0.48605073 0.64753892 0.88950054 0.70915224]\n",
      "  [0.91226041 0.90813681 0.02660409 0.10195266 0.17503161]\n",
      "  [0.22714011 0.02287659 0.63526054 0.85953202 0.57132175]]\n",
      "\n",
      " [[0.33513924 0.93956535 0.48913648 0.798078   0.49152393]\n",
      "  [0.22592059 0.06561766 0.70718225 0.62622094 0.52182445]\n",
      "  [0.27912138 0.09612072 0.26827116 0.33266781 0.09488129]]]\n",
      "[[[10.69032154 10.48605073 10.64753892  2.88950054  2.70915224]\n",
      "  [10.91226041 10.90813681 10.02660409  2.10195266  2.17503161]\n",
      "  [ 2.22714011  2.02287659  2.63526054  2.85953202  2.57132175]]\n",
      "\n",
      " [[10.33513924 10.93956535 10.48913648  2.798078    2.49152393]\n",
      "  [10.22592059 10.06561766 10.70718225  2.62622094  2.52182445]\n",
      "  [ 2.27912138  2.09612072  2.26827116  2.33266781  2.09488129]]]\n"
     ]
    }
   ],
   "source": [
    "#11. Print a and d. Notice the difference and relation of the two array in terms of the values? Explain.\n",
    "print(a)\n",
    "print(d)\n",
    "#each item of array a is added to each item of array in d"
   ]
  },
  {
   "cell_type": "code",
   "execution_count": 13,
   "metadata": {},
   "outputs": [
    {
     "name": "stdout",
     "output_type": "stream",
     "text": [
      "[[[6.90321545 4.86050727 6.47538924 1.77900108 1.41830448]\n",
      "  [9.12260405 9.08136813 0.2660409  0.20390532 0.35006322]\n",
      "  [0.45428022 0.04575319 1.27052108 1.71906404 1.14264349]]\n",
      "\n",
      " [[3.35139239 9.39565354 4.89136479 1.596156   0.98304786]\n",
      "  [2.25920585 0.65617664 7.07182247 1.25244189 1.0436489 ]\n",
      "  [0.55824275 0.19224144 0.53654232 0.66533562 0.18976258]]]\n"
     ]
    }
   ],
   "source": [
    "#12. Multiply a and c. Assign the result to e.\n",
    "e= np.multiply(a,c)\n",
    "print(e)"
   ]
  },
  {
   "cell_type": "code",
   "execution_count": 14,
   "metadata": {},
   "outputs": [
    {
     "data": {
      "text/plain": [
       "array([[[False, False, False, False, False],\n",
       "        [False, False, False, False, False],\n",
       "        [False, False, False, False, False]],\n",
       "\n",
       "       [[False, False, False, False, False],\n",
       "        [False, False, False, False, False],\n",
       "        [False, False, False, False, False]]])"
      ]
     },
     "execution_count": 14,
     "metadata": {},
     "output_type": "execute_result"
    }
   ],
   "source": [
    "#13. Does e equal to a? Why or why not?\n",
    "e==a\n",
    "# because types are the same?"
   ]
  },
  {
   "cell_type": "code",
   "execution_count": 15,
   "metadata": {},
   "outputs": [
    {
     "name": "stdout",
     "output_type": "stream",
     "text": [
      "Max:  10.93956535404966 Min:  2.0228765933427106 Mean: 5.671131727035749\n"
     ]
    }
   ],
   "source": [
    "#14. Identify the max, min, and mean values in d. Assign those values to variables \"d_max\", \"d_min\", and \"d_mean\"\n",
    "d_max = np.max(d)\n",
    "d_min = np.min(d)\n",
    "d_mean = np.mean(d)\n",
    "print(\"Max: \",d_max, \"Min: \",d_min, \"Mean:\",d_mean)"
   ]
  },
  {
   "cell_type": "code",
   "execution_count": 16,
   "metadata": {},
   "outputs": [
    {
     "name": "stdout",
     "output_type": "stream",
     "text": [
      "[[[         0 1076101120          0 1076101120          0]\n",
      "  [1076101120          0 1073741824          0 1073741824]\n",
      "  [         0 1076101120          0 1076101120          0]]\n",
      "\n",
      " [[1076101120          0 1073741824          0 1073741824]\n",
      "  [         0 1073741824          0 1073741824          0]\n",
      "  [1073741824          0 1073741824          0 1073741824]]]\n"
     ]
    }
   ],
   "source": [
    "#15. Now we want to label the values in d. First create an empty array \"f\" with the same shape (i.e. 2x3x5) as d using `np.empty`.\n",
    "f=np.empty([2,3,5], dtype= int)\n",
    "print(f)"
   ]
  },
  {
   "cell_type": "markdown",
   "metadata": {},
   "source": [
    "\"\"\"\n",
    "#16. Populate the values in f. For each value in d, if it's larger than d_min but smaller than d_mean, assign 25 to the corresponding value in f.\n",
    "If a value in d is larger than d_mean but smaller than d_max, assign 75 to the corresponding value in f.\n",
    "If a value equals to d_mean, assign 50 to the corresponding value in f.\n",
    "Assign 0 to the corresponding value(s) in f for d_min in d.\n",
    "Assign 100 to the corresponding value(s) in f for d_max in d.\n",
    "In the end, f should have only the following values: 0, 25, 50, 75, and 100.\n",
    "Note: you don't have to use Numpy in this question.\n",
    "\"\"\""
   ]
  },
  {
   "cell_type": "code",
   "execution_count": 17,
   "metadata": {},
   "outputs": [
    {
     "name": "stdout",
     "output_type": "stream",
     "text": [
      "[[[ 75  75  75  25  25]\n",
      "  [ 75  75  75  25  25]\n",
      "  [ 25   0  25  25  25]]\n",
      "\n",
      " [[ 75 100  75  25  25]\n",
      "  [ 75  75  75  25  25]\n",
      "  [ 25  25  25  25  25]]]\n"
     ]
    }
   ],
   "source": [
    "\n",
    "outlist= [i for i in d.tolist()]\n",
    "\n",
    "list_in_list= [i for sublist in outlist for i in sublist]\n",
    "\n",
    "final_list= [i for subsublist in list_in_list for i in subsublist]\n",
    "list_change= [0 if i == d_min else 25 if i < d_mean else 50 if i == d_mean else 75 if i <d_max else 100 for i in final_list]\n",
    "np.array(list_change)\n",
    "f = np.array(list_change).reshape(2,3,5)\n",
    "print(f)"
   ]
  },
  {
   "cell_type": "code",
   "execution_count": null,
   "metadata": {},
   "outputs": [],
   "source": []
  },
  {
   "cell_type": "code",
   "execution_count": 18,
   "metadata": {},
   "outputs": [
    {
     "name": "stdout",
     "output_type": "stream",
     "text": [
      "Array d:  [[[10.69032154 10.48605073 10.64753892  2.88950054  2.70915224]\n",
      "  [10.91226041 10.90813681 10.02660409  2.10195266  2.17503161]\n",
      "  [ 2.22714011  2.02287659  2.63526054  2.85953202  2.57132175]]\n",
      "\n",
      " [[10.33513924 10.93956535 10.48913648  2.798078    2.49152393]\n",
      "  [10.22592059 10.06561766 10.70718225  2.62622094  2.52182445]\n",
      "  [ 2.27912138  2.09612072  2.26827116  2.33266781  2.09488129]]] \n",
      " Array f: [[[ 75  75  75  25  25]\n",
      "  [ 75  75  75  25  25]\n",
      "  [ 25   0  25  25  25]]\n",
      "\n",
      " [[ 75 100  75  25  25]\n",
      "  [ 75  75  75  25  25]\n",
      "  [ 25  25  25  25  25]]]\n"
     ]
    }
   ],
   "source": [
    "\"\"\"\n",
    "#17. Print d and f. Do you have your expected f?\n",
    "For instance, if your d is:\n",
    "array([[[1.85836099, 1.67064465, 1.62576044, 1.40243961, 1.88454931],\n",
    "        [1.75354326, 1.69403643, 1.36729252, 1.61415071, 1.12104981],\n",
    "        [1.72201435, 1.1862918 , 1.87078449, 1.7726778 , 1.88180042]],\n",
    "\n",
    "       [[1.44747908, 1.31673383, 1.02000951, 1.52218947, 1.97066381],\n",
    "        [1.79129243, 1.74983003, 1.96028037, 1.85166831, 1.65450881],\n",
    "        [1.18068344, 1.9587381 , 1.00656599, 1.93402165, 1.73514584]]])\n",
    "\n",
    "Your f should be:\n",
    "array([[[ 75.,  75.,  75.,  25.,  75.],\n",
    "        [ 75.,  75.,  25.,  25.,  25.],\n",
    "        [ 75.,  25.,  75.,  75.,  75.]],\n",
    "\n",
    "       [[ 25.,  25.,  25.,  25., 100.],\n",
    "        [ 75.,  75.,  75.,  75.,  75.],\n",
    "        [ 25.,  75.,   0.,  75.,  75.]]])\n",
    "\"\"\"\n",
    "print(\"Array d: \", d, \"\\n\", \"Array f:\",f)"
   ]
  },
  {
   "cell_type": "code",
   "execution_count": 36,
   "metadata": {},
   "outputs": [
    {
     "data": {
      "text/plain": [
       "'\\n#18. Bonus question: instead of using numbers (i.e. 0, 25, 50, 75, and 100), how to use string values \\n(\"A\", \"B\", \"C\", \"D\", and \"E\") to label the array elements? You are expecting the result to be:\\narray([[[ \\'D\\',  \\'D\\',  \\'D\\',  \\'B\\',  \\'D\\'],\\n        [ \\'D\\',  \\'D\\',  \\'B\\',  \\'B\\',  \\'B\\'],\\n        [ \\'D\\',  \\'B\\',  \\'D\\',  \\'D\\',  \\'D\\']],\\n\\n       [[ \\'B\\',  \\'B\\',  \\'B\\',  \\'B\\',  \\'E\\'],\\n        [ \\'D\\',  \\'D\\',  \\'D\\',  \\'D\\',  \\'D\\'],\\n        [ \\'B\\',  \\'D\\',   \\'A\\',  \\'D\\', \\'D\\']]])\\nAgain, you don\\'t need Numpy in this question.\\n'"
      ]
     },
     "execution_count": 36,
     "metadata": {},
     "output_type": "execute_result"
    }
   ],
   "source": [
    "\"\"\"\n",
    "#18. Bonus question: instead of using numbers (i.e. 0, 25, 50, 75, and 100), how to use string values \n",
    "(\"A\", \"B\", \"C\", \"D\", and \"E\") to label the array elements? You are expecting the result to be:\n",
    "array([[[ 'D',  'D',  'D',  'B',  'D'],\n",
    "        [ 'D',  'D',  'B',  'B',  'B'],\n",
    "        [ 'D',  'B',  'D',  'D',  'D']],\n",
    "\n",
    "       [[ 'B',  'B',  'B',  'B',  'E'],\n",
    "        [ 'D',  'D',  'D',  'D',  'D'],\n",
    "        [ 'B',  'D',   'A',  'D', 'D']]])\n",
    "Again, you don't need Numpy in this question.\n",
    "\"\"\""
   ]
  },
  {
   "cell_type": "code",
   "execution_count": 19,
   "metadata": {},
   "outputs": [
    {
     "name": "stdout",
     "output_type": "stream",
     "text": [
      "[[['D' 'D' 'D' 'B' 'B']\n",
      "  ['D' 'D' 'D' 'B' 'B']\n",
      "  ['B' 'A' 'B' 'B' 'B']]\n",
      "\n",
      " [['D' 'E' 'D' 'B' 'B']\n",
      "  ['D' 'D' 'D' 'B' 'B']\n",
      "  ['B' 'B' 'B' 'B' 'B']]]\n"
     ]
    }
   ],
   "source": [
    "list_change= [\"A\" if i == d_min else \"B\" if i < d_mean else \"C\" if i == d_mean else \"D\" if i <d_max else \"E\" for i in final_list]\n",
    "np.array(list_change)\n",
    "g = np.array(list_change).reshape(2,3,5)\n",
    "print(g)"
   ]
  },
  {
   "cell_type": "code",
   "execution_count": null,
   "metadata": {},
   "outputs": [],
   "source": []
  }
 ],
 "metadata": {
  "kernelspec": {
   "display_name": "Python 3",
   "language": "python",
   "name": "python3"
  },
  "language_info": {
   "codemirror_mode": {
    "name": "ipython",
    "version": 3
   },
   "file_extension": ".py",
   "mimetype": "text/x-python",
   "name": "python",
   "nbconvert_exporter": "python",
   "pygments_lexer": "ipython3",
   "version": "3.7.3"
  }
 },
 "nbformat": 4,
 "nbformat_minor": 2
}
